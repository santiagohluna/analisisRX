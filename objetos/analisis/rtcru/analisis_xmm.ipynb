{
 "cells": [
  {
   "cell_type": "markdown",
   "id": "e684d02b-3b2b-491f-bed7-8794c4c9aac0",
   "metadata": {},
   "source": [
    "# Reducción y análisis de datos de observaciones de XMM Newton\n",
    "\n",
    "---\n",
    "\n",
    "A continuación se listan losp pasos a seguir para recalibrar, filtrar y obtener el espectro y curva de luz de una fuente puntual a partir de las observaciones \"crudas\" de XMM-Newton.\n",
    "\n",
    "## Reprocesamiento\n",
    "\n",
    "1. Apuntar la variable `SAS_ODF` a la carpeta donde se encuentran las observaciones, p. ej.:\n",
    "   `export SAS_ODF=/home/shluna/Proyectos/RX/objetos/rtcru/observaciones/xmm/0831790801`\n",
    "   Antes de continuar, se debe verificar que la variable `SAS_CCFPATH` esté definida en `.bashrc` apuntando a la carpeta donde se encuantran los archivos de calibración.\n",
    "2. Luego, ejecutar la tareas `cifbuild`, la cual crea el archivo `cif.ccf`.\n",
    "3. Apuntar la variable `SAS_CCF` a este último archivo:`export SAS_CCF=cif.ccf`.\n",
    "4. Ejecutar la tarea `odfingest` para actualizar el archivo de resumen `*SUM.SAS`.\n",
    "5. Apuntar la variable `SAS_ODF` al archivo de resumen actualizado: `export SAS_ODF=*SUM.SAS`.\n",
    "6. Por último, ejecutar las tareas `emproc`y `epproc` para reprocesar las observaciones de los detectores EPIC-MOS y EPIC-pn, respectivamente.\n",
    "\n",
    "## Filtrado de la lista de eventos\n",
    "\n",
    "Antes de comenzar conviene hacer una copia de seguridad de las listas eventos originales detectados por cada cámara. Estos están guardado en los archivos que finalizan `*Evts.ds`:\n",
    "\n",
    "- `cp 3522_0831790801_EPN_S003_ImagingEvts.ds PN.fits`\n",
    "- `cp 3522_0831790801_EMOS1_S001_ImagingEvts.ds M1.fits`\n",
    "- `cp 3522_0831790801_EMOS2_S002_ImagingEvts.ds M2.fits`\n",
    "\n",
    "Ahora sí, se comienza con el filtrado:\n",
    "\n",
    "1. Extraer una curva de luz de eventos singulares (con patrón “0”) a energías por encima de 10 keV para cada cámara (PN, MOS1, MOS2) para identificar los intervalos de alto background, usando la tarea `evselect` de SAS:\n",
    "\n",
    "    - `evselect table=PN.fits withrateset=Y rateset=ratesPN.fits maketimecolumn=Y timebinsize=100 makeratecolumn=Y expression='#XMMEA_EP && (PI>10000&&PI<12000) && (PATTERN==0)'`\n",
    "    - `evselect table=M1.fits withrateset=Y rateset=ratesM1.fits maketimecolumn=Y timebinsize=100 makeratecolumn=Y expression='#XMMEA_EM && (PI>10000) && (PATTERN==0)'`\n",
    "    - `evselect table=M2.fits withrateset=Y rateset=ratesM2.fits maketimecolumn=Y timebinsize=100 makeratecolumn=Y expression='#XMMEA_EM && (PI>10000) && (PATTERN==0)'`\n",
    "\n",
    "La curva de luz resultante puede ser visualizada usando dsplot: `dsplot table=rateEPIC.fits x=TIME y=RATE`\n",
    "\n",
    "2. Usando la tarea `tabgtigen` se determinan los intervalos de tiempo en los que la curva de luz es baja y constante eligiendo un límite o *threshold* (en cuentas por segundo) para crear el archivo GTI, `EPICgti.fits`:\n",
    "   \n",
    "   - `tabgtigen table=ratesPN.fits expression='RATE<=0.4' gtiset=PNgti.fits`\n",
    "   - `tabgtigen table=ratesM1.fits expression='RATE<=0.35' gtiset=M1gti.fits`\n",
    "   - `tabgtigen table=ratesM2.fits expression='RATE<=0.35' gtiset=M2gti.fits`\n",
    "\n",
    "3. Por último, usamos nuevamente `evselect` para generar la lista de eventos filtrada, `EPICclean.fits`:\n",
    "\n",
    "   - `evselect table=PN.fits withfilteredset=Y filteredset=PNclean.fits destruct=Y keepfilteroutput=T expression='#XMMEA_EP && gti(PNgti.fits,TIME) && (PI>150)'`\n",
    "   - `evselect table=M1.fits withfilteredset=Y filteredset=M1clean.fits destruct=Y keepfilteroutput=T expression='#XMMEA_EM && gti(M1gti.fits,TIME) && (PI>150)'`\n",
    "   - `evselect table=M2.fits withfilteredset=Y filteredset=M2clean.fits destruct=Y keepfilteroutput=T expression='#XMMEA_EM && gti(M2gti.fits,TIME) && (PI>150)'`\n",
    "\n",
    "## Obtención de la curva de luz\n",
    "\n",
    "1. En primer lugar, se deben inicializar las variables de entorno `SAS_ODF` y `SAS_CCF`:\n",
    "\n",
    "   - `export SAS_ODF=/home/shluna/Proyectos/RX/objetos/rtcru/observaciones/xmm/0831790801`\n",
    "   - `export SAS_CCF=ccf.cif`\n",
    "2. Abrir las imágenes `PNclean.img`, `M1clean.img` y `M2clean.img` usando `ds9` y seleccionar una región circular entorno a la fuente de la que se pretende generar la curva de luz. Haciendo doble-click sobre la región circular, y eligiendo coordenadas físicas en el despliegue, obtener las coordenadas del centro y el radio:\n",
    "\n",
    "3. Extraer la curva de luz de la fuente usando la región elegida e incluyendo una selección de eventos de calidad apropiada para la curva de luz y un agrupamiento de, por ejemplo, 5 segundos:\n",
    "\n",
    "   - `evselect table=PNclean.fits energycolumn=PI expression='(FLAG==0)&& (PATTERN<=4) && (PI in [300:10000]) && ((X,Y) IN circle(26996.578,24240.85,400.0))' withrateset=yes rateset=PN_src_raw.lc timebinsize=5 maketimecolumn=yes makeratecolumn=yes`\n",
    "   - \n",
    "4. Repetir el paso 2 para seleccionar una región con el fondo.\n",
    "5. Extraer la curva de luz del fondo, usando las mismas expresiones que para la fuente:\n",
    "\n",
    "   `evselect table=PNclean.fits energycolumn=PI expression='(FLAG==0) && (PATTERN<=4) && (PI in [300:10000]) && ((X,Y) IN circle(25434.659,23330.045,1000.00))' withrateset=yes rateset=PN_bkg_raw.lc timebinsize=5 maketimecolumn=yes makeratecolumn=yes`\n",
    "6. Estas curvas de luz deben ser corregidas por varios efectos que modifican la eficiencia del detector como el viñeteo, los pixeles malos o calientes, variación de la PSF y eficiencia cuántica, así como efectos de la estabilidad del satélite durante la exposición, como tiempos muertos o GTIs. La tarea `epiclccorr` de SAS realiza todas estas correcciones automáticamente por nosotros. Para ello deben suministrarse tanto la curva de luz de la fuente como la del fondo, así como la lista de eventos original filtrada:\n",
    "\n",
    "   `epiclccorr srctslist=PN_src_raw.lc eventlist=PNclean.fits outset=PN_lccorr.lc bkgtslist=PN_bkg_raw.lc withbkgset=yes applyabsolutecorrections=yes`\n",
    "7. La curva de luz resultante puede graficarse con `dsplot`, `fplot` o revisarse con `fv`:\n",
    "\n",
    "   `dsplot table=PN_lccorr.lc withx=yes x=TIME withy=yes y=RATE`\n",
    "\n",
    "## Obtención del espectro\n",
    "\n",
    "Para comenzar, se deben reptetir los pasos 1, 2 y 4 de los que se deben seguir para la obtención de la curva de luz de la fuente y del fondo, así como también la inicialización de las variables de entorno necesarias.\n",
    "\n",
    "1. Extraer el espectro de la fuente usando las expresiones de selección similares a las usadas para obtener las curvas de luz, y restringiendo los patrones a simples y dobles. Notar el rango de canales utilizados.\n",
    "\n",
    "   - `evselect table=PNclean.fits withspectrumset=yes spectrumset=PN_src_spectrum.fits energycolumn=PI spectralbinsize=5 withspecranges=yes specchannelmin=0 specchannelmax=20479 expression='(FLAG==0) && (PATTERN<=4) && ((X,Y) IN circle(26996.578,24240.85,400.00))'`\n",
    "\n",
    "2. Extraer el espectro del fondo:\n",
    "\n",
    "   - `evselect table=PNclean.fits withspectrumset=yes spectrumset=PN_src_bkg_spectrum.fits energycolumn=PI spectralbinsize=5 withspecranges=yes specchannelmin=0 specchannelmax=20479 expression='(FLAG==0) && (PATTERN<=4) && ((X,Y) IN circle(25434.659,23330.045,1000.0))'`\n",
    "3. Calcular el area de las regiones usadas para extraer la fuente y el fondo necesarias para pesar correctamente sus flujos mutuos. Las áreas son introducidas en un campo del header de los espectros denominado `BACKSCAL`:\n",
    "\n",
    "   - `backscale spectrumset=PN_src_spectrum.fits badpixlocation=PNclean.fits`\n",
    "   - `backscale spectrumset=PN_src_bkg_spectrum.fits badpixlocation=PNclean.fits`\n",
    "4. Usar la tarea rmfgen para crear una matriz de redistribución para el espectro extraído (esto puede llevar más de 30 minutos en computadoras pequeñas):\n",
    "\n",
    "   - `rmfgen spectrumset=PN_src_spectrum.fits rmfset=PN_src.rmf`\n",
    "5. Generar la matriz auxiliar. Para fuentes puntuales usar extendedsource=no detmaptype=psf. Para fuentes extendidas usar extendedsource=yes detmaptype=flat o bien generar un mapa de exposición con la tarea expmap).\n",
    "\n",
    "   - `arfgen spectrumset=PN_src_spectrum.fits arfset=PN_src.arf withrmfset=yes rmfset=PN_src.rmf badpixlocation=PNclean.fits extendedsource=no detmaptype=psf`\n",
    "6. Reagrupar el espectro y vincularlo a los archivos asociados tales como el espectro del fondo y las matrices (RMF y ARF). En el ejemplo reagrupamos a un mínimo de 16 cuentas por canal asegurando que el reagrupamiento no exceda un factor 3 en la pérdida de resolución:\n",
    "\n",
    "   - `specgroup spectrumset=PN_src_spectrum.fits mincounts=16 oversample=3 rmfset=PN_src.rmf arfset=PN_src.arf backgndset=PN_src_bkg_spectrum.fits groupedset=PN_src_grp.fits`"
   ]
  },
  {
   "cell_type": "code",
   "execution_count": 7,
   "id": "e5c999b7-1c1b-4b34-b4dc-c316f7a5130c",
   "metadata": {},
   "outputs": [],
   "source": [
    "!export SAS_ODF=/home/shluna/Proyectos/RX/objetos/rtcru/observaciones/xmm/0920750101"
   ]
  },
  {
   "cell_type": "code",
   "execution_count": 12,
   "id": "b2a9eb59-4af1-4035-b5b6-f1879ffe15ea",
   "metadata": {},
   "outputs": [
    {
     "name": "stdout",
     "output_type": "stream",
     "text": [
      "\n"
     ]
    }
   ],
   "source": [
    "!echo $SAS_ODF"
   ]
  },
  {
   "cell_type": "code",
   "execution_count": 14,
   "id": "fadb0cab-ff79-412f-8c36-6fd066615350",
   "metadata": {},
   "outputs": [],
   "source": [
    "mkdir prueba"
   ]
  },
  {
   "cell_type": "code",
   "execution_count": 15,
   "id": "3b65b3d9-8b2e-4790-9d8b-787f0a75d84e",
   "metadata": {},
   "outputs": [
    {
     "name": "stdout",
     "output_type": "stream",
     "text": [
      "/home/shluna/Proyectos/RX/objetos/rtcru/analisis/prueba\n"
     ]
    }
   ],
   "source": [
    "cd prueba"
   ]
  },
  {
   "cell_type": "code",
   "execution_count": 17,
   "id": "8a7ae925-678b-4eaf-aacc-cdb89dbcbb0f",
   "metadata": {},
   "outputs": [
    {
     "name": "stdout",
     "output_type": "stream",
     "text": [
      "cifbuild:- Executing (routine): cifbuild calindexset=ccf.cif ccfpath=. withccfpath=no usecanonicalname=no recurse=no fileglob=*.ccf|*.CCF fullpath=no observationdate=now withobservationdate=no analysisdate=now category=XMMCCF ignorecategory=no masterindex=no masterindexset=ccf.mif withmasterindexset=no append=no  -w 1 -V 4\n",
      "cifbuild:- cifbuild (cifbuild-4.10.1)  [xmmsas_20230412_1735-21.0.0] started:  2025-01-27T18:24:05.000\n",
      "cifbuild:- Will ask the analysis date to the OAL.\n",
      "** cifbuild: error (NoODFspecified), No name for ODF summary file/ODF directory specified and environment variable `SAS_ODF' is not set either - cannot continue.\n"
     ]
    }
   ],
   "source": [
    "!cifbuild"
   ]
  },
  {
   "cell_type": "markdown",
   "id": "0dc5d439-036d-447f-830f-310ecb5e7d93",
   "metadata": {},
   "source": [
    "# Modelado de las observaciones\n",
    "\n",
    "---\n",
    "\n",
    "El modelado de los datos obtenidos mediante las observaciones es de fundamental importancia para entender la física de las fuentes de rayos X.\n",
    "\n",
    "Una vez que se redujeron las observaciones y se obtuvo el espectro agrupado, es posible modelar las observaciones usando PyXspec.\n",
    "\n",
    "En primer lugar, importamos las librerías necesarias."
   ]
  },
  {
   "cell_type": "code",
   "execution_count": 1,
   "id": "3d7322e0-fe0c-4dbd-ac5e-2e6f4f212355",
   "metadata": {},
   "outputs": [],
   "source": [
    "import xspec as xs\n",
    "import matplotlib\n",
    "import numpy as np\n",
    "import matplotlib.pyplot as plt"
   ]
  },
  {
   "cell_type": "code",
   "execution_count": 2,
   "id": "4f256446-aff6-4e9e-b5ee-58b05330a47d",
   "metadata": {},
   "outputs": [],
   "source": [
    "data = \"PN_src_grp.fits\"\n",
    "back = \"PN_src_bkg_spectrum.fits\"\n",
    "rmf = \"PN_src.rmf\"\n",
    "arf = \"PN_src.arf\""
   ]
  },
  {
   "cell_type": "code",
   "execution_count": 9,
   "id": "22760a2c-7495-4c24-8600-7a38b70f8c9d",
   "metadata": {},
   "outputs": [
    {
     "name": "stdout",
     "output_type": "stream",
     "text": [
      "/home/shluna/Proyectos/RX/objetos/rtcru/analisis/xmm/reduccion_0831790801_220125\n"
     ]
    },
    {
     "name": "stderr",
     "output_type": "stream",
     "text": [
      "/home/shluna/.local/lib/python3.10/site-packages/IPython/core/magics/osm.py:417: UserWarning: This is now an optional IPython functionality, setting dhist requires you to install the `pickleshare` library.\n",
      "  self.shell.db['dhist'] = compress_dhist(dhist)[-100:]\n"
     ]
    }
   ],
   "source": [
    "cd reduccion_0831790801_220125"
   ]
  },
  {
   "cell_type": "code",
   "execution_count": 10,
   "id": "44a771c4-ef9d-4102-886d-2d5d9fc64915",
   "metadata": {},
   "outputs": [
    {
     "data": {
      "text/plain": [
       "'/home/shluna/Proyectos/RX/objetos/rtcru/analisis/xmm/reduccion_0831790801_220125'"
      ]
     },
     "execution_count": 10,
     "metadata": {},
     "output_type": "execute_result"
    }
   ],
   "source": [
    "pwd"
   ]
  },
  {
   "cell_type": "code",
   "execution_count": 11,
   "id": "b457ba42-47d2-4d34-9498-9b80a6a38813",
   "metadata": {},
   "outputs": [
    {
     "name": "stdout",
     "output_type": "stream",
     "text": [
      "\n",
      "1 spectrum  in use\n",
      " \n",
      "Spectral Data File: PN_src_grp.fits  Spectrum 1\n",
      "Net count rate (cts/s) for Spectrum:1  3.264e-02 +/- 9.816e-04 (82.9 % total)\n",
      " Assigned to Data Group 1 and Plot Group 1\n",
      "  Noticed Channels:  1-77\n",
      "  Telescope: XMM Instrument: EPN  Channel Type: PI\n",
      "  Exposure Time: 4.196e+04 sec\n",
      " Using fit statistic: chi\n",
      " Using Background File                PN_src_bkg_spectrum.fits\n",
      "  Background Exposure Time: 4.196e+04 sec\n",
      " Using Response (RMF) File            PN_src.rmf for Source 1\n",
      " Using Auxiliary Response (ARF) File  PN_src.arf\n",
      "\n"
     ]
    }
   ],
   "source": [
    "s = xs.Spectrum(data)"
   ]
  },
  {
   "cell_type": "code",
   "execution_count": 29,
   "id": "56dc2f83-14e0-4870-8f5d-28da6354b145",
   "metadata": {},
   "outputs": [
    {
     "name": "stdout",
     "output_type": "stream",
     "text": [
      "     4 channels (1-4) ignored in spectrum #     1\n",
      "     1 channels (77) ignored in spectrum #     1\n",
      "\n",
      "Fit statistic  : Chi-Squared                   66.71     using 72 bins.\n",
      "\n",
      "Test statistic : Chi-Squared                   66.71     using 72 bins.\n",
      " Null hypothesis probability of 4.52e-01 with 66 degrees of freedom\n",
      " Current data and model not fit yet.\n",
      "\n"
     ]
    }
   ],
   "source": [
    "xs.Plot.device = \"/null\"\n",
    "xs.Plot.xAxis=\"keV\"\n",
    "xs.Plot(\"data\")\n",
    "s.ignore(\"**-0.3 15.0-**\")\n",
    "energies = xs.Plot.x()\n",
    "edeltas = xs.Plot.xErr()\n",
    "rates = xs.Plot.y()\n",
    "errors = xs.Plot.yErr()\n",
    "labels = xs.Plot.labels()"
   ]
  },
  {
   "cell_type": "code",
   "execution_count": 30,
   "id": "7765ae54-e2b1-4c34-a030-198013b9b0de",
   "metadata": {},
   "outputs": [
    {
     "data": {
      "text/plain": [
       "<ErrorbarContainer object of 3 artists>"
      ]
     },
     "execution_count": 30,
     "metadata": {},
     "output_type": "execute_result"
    },
    {
     "data": {
      "image/png": "[encoded data removed]",
      "text/plain": [
       "<Figure size 640x480 with 1 Axes>"
      ]
     },
     "metadata": {},
     "output_type": "display_data"
    }
   ],
   "source": [
    "plt.xscale('log')\n",
    "plt.yscale('log')\n",
    "plt.xlabel(labels[0])\n",
    "plt.ylabel(labels[1])\n",
    "plt.title(labels[2])\n",
    "plt.errorbar(energies,rates,xerr=edeltas,yerr=errors,fmt='.')"
   ]
  },
  {
   "cell_type": "code",
   "execution_count": 31,
   "id": "d523d482-a341-4e4b-a044-47f8fbab38bc",
   "metadata": {},
   "outputs": [
    {
     "name": "stdout",
     "output_type": "stream",
     "text": [
      "\n",
      "========================================================================\n",
      "Model phabs<1>(gaussian<2> + bremss<3>) Source No.: 1   Active/On\n",
      "Model Model Component  Parameter  Unit     Value\n",
      " par  comp\n",
      "   1    1   phabs      nH         10^22    1.00000      +/-  0.0          \n",
      "   2    2   gaussian   LineE      keV      6.50000      +/-  0.0          \n",
      "   3    2   gaussian   Sigma      keV      0.100000     +/-  0.0          \n",
      "   4    2   gaussian   norm                1.00000      +/-  0.0          \n",
      "   5    3   bremss     kT         keV      7.00000      +/-  0.0          \n",
      "   6    3   bremss     norm                1.00000      +/-  0.0          \n",
      "________________________________________________________________________\n",
      "\n",
      "\n",
      "Fit statistic  : Chi-Squared              1.863694e+13     using 72 bins.\n",
      "\n",
      "Test statistic : Chi-Squared              1.863694e+13     using 72 bins.\n",
      " Null hypothesis probability of 0.000000e+00 with 66 degrees of freedom\n",
      " Current data and model not fit yet.\n"
     ]
    }
   ],
   "source": [
    "m = xs.Model(\"phabs*(gauss + bremss)\")"
   ]
  },
  {
   "cell_type": "code",
   "execution_count": 32,
   "id": "1b9a1029-1645-44d9-b10f-e52b12ca7a9e",
   "metadata": {},
   "outputs": [
    {
     "name": "stdout",
     "output_type": "stream",
     "text": [
      "                                   Parameters\n",
      "Chi-Squared  |beta|/N    Lvl          1:nH       2:LineE       3:Sigma        4:norm          5:kT        6:norm\n",
      "856.824      3.5358e+06   -3      0.391659       6.53197      0.171227   6.05110e-07       195.632   1.13461e-05\n",
      "409.493      2.59319e+06  -2      0.109068       6.66154      0.304500   5.54521e-07       45.4565   1.70201e-05\n",
      "278.348      2.96879e+06  -3      0.368603       6.76156      0.518097   1.09931e-06       16.4385   2.50567e-05\n",
      "222.067      1.76666e+06   0      0.185060       6.66572      0.587940   1.46235e-06       2.97584   3.10873e-05\n",
      "98.4016      1.77907e+06  -1      0.227125       6.59246      0.940945   2.65974e-06       5.89380   3.07790e-05\n",
      "67.5768      843206       -2      0.259186       6.60170       1.33461   3.18682e-06       7.27900   3.63656e-05\n",
      "67.1952      59463.3      -1      0.260485       6.54884       1.52412   3.74659e-06       6.64334   3.66858e-05\n",
      "67.0185      40588.4      -1      0.263371       6.44820       1.56072   4.10675e-06       6.24842   3.68679e-05\n",
      "66.9277      18795.6      -1      0.265689       6.40719       1.63634   4.43821e-06       5.94996   3.70136e-05\n",
      "66.9024      15383.1      -2      0.274659       6.27511       1.86283   5.57343e-06       4.91146   3.76309e-05\n",
      "Number of trials exceeded: continue fitting? 66.744       68341.4      -3      0.273912       6.18718       1.80145   5.54646e-06       5.04078   3.76650e-05\n",
      "66.7273      984.051      -1      0.274234       6.19297       1.85753   5.69692e-06       4.98476   3.76847e-05\n",
      "66.716       4307.27      -2      0.276788       6.13265       1.91409   6.08374e-06       4.72737   3.79213e-05\n",
      "66.7133      6367.69      -3      0.276155       6.11873       1.90611   6.05010e-06       4.76797   3.78588e-05\n",
      "======================================================================\n",
      " Variances and Principal Axes\n",
      "                 1        2        3        4        5        6  \n",
      " 6.5821E-13| -0.0000  -0.0000  -0.0000   0.9527   0.0000   0.3040  \n",
      " 1.7986E-12|  0.0001   0.0000  -0.0000   0.3040  -0.0000  -0.9527  \n",
      " 4.5423E-04|  0.9997  -0.0117   0.0112  -0.0000   0.0165   0.0001  \n",
      " 1.7423E-01| -0.0043  -0.8433  -0.5369  -0.0000   0.0239  -0.0000  \n",
      " 2.8749E-01| -0.0201  -0.5027   0.8038   0.0000   0.3176  -0.0000  \n",
      " 1.4493E+01| -0.0105   0.1899  -0.2560  -0.0000   0.9478  -0.0000  \n",
      "----------------------------------------------------------------------\n",
      "\n",
      "========================================================================\n",
      "  Covariance Matrix\n",
      "        1           2           3           4           5           6   \n",
      "   2.181e-03  -2.546e-02   3.483e-02   2.261e-07  -1.465e-01   2.061e-07\n",
      "  -2.546e-02   7.194e-01  -7.420e-01  -4.418e-06   2.560e+00  -2.467e-06\n",
      "   3.483e-02  -7.420e-01   1.186e+00   6.275e-06  -3.445e+00   3.370e-06\n",
      "   2.261e-07  -4.418e-06   6.275e-06   3.736e-11  -2.141e-05   2.248e-11\n",
      "  -1.465e-01   2.560e+00  -3.445e+00  -2.141e-05   1.305e+01  -1.493e-05\n",
      "   2.061e-07  -2.467e-06   3.370e-06   2.248e-11  -1.493e-05   2.205e-11\n",
      "------------------------------------------------------------------------\n",
      "\n",
      "========================================================================\n",
      "Model phabs<1>(gaussian<2> + bremss<3>) Source No.: 1   Active/On\n",
      "Model Model Component  Parameter  Unit     Value\n",
      " par  comp\n",
      "   1    1   phabs      nH         10^22    0.276155     +/-  4.66995E-02  \n",
      "   2    2   gaussian   LineE      keV      6.11873      +/-  0.848199     \n",
      "   3    2   gaussian   Sigma      keV      1.90611      +/-  1.08890      \n",
      "   4    2   gaussian   norm                6.05010E-06  +/-  6.11261E-06  \n",
      "   5    3   bremss     kT         keV      4.76797      +/-  3.61215      \n",
      "   6    3   bremss     norm                3.78588E-05  +/-  4.69560E-06  \n",
      "________________________________________________________________________\n",
      "\n",
      "\n",
      "Fit statistic  : Chi-Squared                   66.71     using 72 bins.\n",
      "\n",
      "Test statistic : Chi-Squared                   66.71     using 72 bins.\n",
      " Null hypothesis probability of 4.52e-01 with 66 degrees of freedom\n"
     ]
    }
   ],
   "source": [
    "xs.Fit.perform()"
   ]
  },
  {
   "cell_type": "code",
   "execution_count": 33,
   "id": "6eee7fc2-6e0c-4854-9c8c-f19d30865905",
   "metadata": {},
   "outputs": [
    {
     "name": "stdout",
     "output_type": "stream",
     "text": [
      "\n",
      "Fit statistic  : Chi-Squared                   66.71     using 72 bins.\n",
      "\n",
      "Test statistic : Chi-Squared                   66.71     using 72 bins.\n",
      " Null hypothesis probability of 4.52e-01 with 66 degrees of freedom\n",
      " Current data and model not fit yet.\n"
     ]
    }
   ],
   "source": [
    "xs.Fit.renorm()"
   ]
  },
  {
   "cell_type": "code",
   "execution_count": 34,
   "id": "cff38aae-0136-46a1-80ec-d12ac54ef191",
   "metadata": {},
   "outputs": [
    {
     "name": "stdout",
     "output_type": "stream",
     "text": [
      "***Warning: Fit is not current.\n"
     ]
    }
   ],
   "source": [
    "xs.Plot(\"ldata chi\")\n",
    "energies = xs.Plot.x()\n",
    "edeltas = xs.Plot.xErr()\n",
    "rates = xs.Plot.y(1,1)\n",
    "errors = xs.Plot.yErr(1,1)\n",
    "foldedmodel = xs.Plot.model()\n",
    "dataLabels = xs.Plot.labels(1)\n",
    "chiLabels = xs.Plot.labels(2)\n",
    "# note that for matplotlib step plots we need an x-axis array which includes the start and end value for each\n",
    "# bin and the y-axis has to be the same size with an extra value added equal to the value of the last bin\n",
    "nE = len(energies)\n",
    "stepenergies = list()\n",
    "for i in range(nE):\n",
    "    stepenergies.append(energies[i] - edeltas[i])\n",
    "stepenergies.append(energies[-1]+edeltas[-1])\n",
    "foldedmodel.append(foldedmodel[-1])\n",
    "chi = xs.Plot.y(1,2)\n",
    "chi.append(chi[-1])"
   ]
  },
  {
   "cell_type": "code",
   "execution_count": 35,
   "id": "291f8bb9-5b2e-41bd-aaf7-9f3f18fddb7e",
   "metadata": {},
   "outputs": [
    {
     "data": {
      "text/plain": [
       "<matplotlib.collections.LineCollection at 0x7542c4c504f0>"
      ]
     },
     "execution_count": 35,
     "metadata": {},
     "output_type": "execute_result"
    },
    {
     "data": {
      "image/png": "[encoded data removed]",
      "text/plain": [
       "<Figure size 640x480 with 2 Axes>"
      ]
     },
     "metadata": {},
     "output_type": "display_data"
    }
   ],
   "source": [
    "plt.subplot(211)\n",
    "plt.xscale('log')\n",
    "plt.yscale('log')\n",
    "plt.ylabel(dataLabels[1])\n",
    "plt.title(dataLabels[2])\n",
    "plt.errorbar(energies,rates,xerr=edeltas,yerr=errors,fmt='.')\n",
    "plt.step(stepenergies,foldedmodel,where='post')\n",
    "plt.subplot(212)\n",
    "plt.xscale('log')\n",
    "plt.xlabel(chiLabels[0])\n",
    "plt.ylabel(chiLabels[1])\n",
    "plt.step(stepenergies,chi,where='post')\n",
    "plt.hlines(0.0,stepenergies[0],stepenergies[-1],linestyles='dashed')"
   ]
  },
  {
   "cell_type": "code",
   "execution_count": 36,
   "id": "de72acbc-89d2-4bb2-9b02-972de4777e18",
   "metadata": {},
   "outputs": [
    {
     "name": "stdout",
     "output_type": "stream",
     "text": [
      "***Warning: Fit is not current.\n"
     ]
    }
   ],
   "source": [
    "xs.Plot(\"data resid\")\n",
    "energies = xs.Plot.x()\n",
    "edeltas = xs.Plot.xErr()\n",
    "rates = xs.Plot.y(1,1)\n",
    "errors = xs.Plot.yErr(1,1)\n",
    "foldedmodel = xs.Plot.model()\n",
    "dataLabels = xs.Plot.labels(1)\n",
    "residLabels = xs.Plot.labels(2)\n",
    "# note that for matplotlib step plots we need an x-axis array which includes the start and end value for each\n",
    "# bin and the y-axis has to be the same size with an extra value added equal to the value of the last bin\n",
    "nE = len(energies)\n",
    "stepenergies = list()\n",
    "for i in range(nE):\n",
    "    stepenergies.append(energies[i] - edeltas[i])\n",
    "stepenergies.append(energies[-1]+edeltas[-1])\n",
    "foldedmodel.append(foldedmodel[-1])\n",
    "resid = xs.Plot.y(1,2)\n",
    "residerr = xs.Plot.yErr(1,2)"
   ]
  },
  {
   "cell_type": "code",
   "execution_count": 37,
   "id": "7b262ee7-36f3-4d42-9569-8a7c4fedec6f",
   "metadata": {},
   "outputs": [
    {
     "data": {
      "text/plain": [
       "<matplotlib.collections.LineCollection at 0x7542c4afe6e0>"
      ]
     },
     "execution_count": 37,
     "metadata": {},
     "output_type": "execute_result"
    },
    {
     "data": {
      "image/png": "[encoded data removed]",
      "text/plain": [
       "<Figure size 640x480 with 2 Axes>"
      ]
     },
     "metadata": {},
     "output_type": "display_data"
    }
   ],
   "source": [
    "plt.subplot(211)\n",
    "plt.xscale('log')\n",
    "plt.yscale('log')\n",
    "plt.ylabel(dataLabels[1])\n",
    "plt.title(dataLabels[2])\n",
    "plt.errorbar(energies,rates,xerr=edeltas,yerr=errors,fmt='.')\n",
    "plt.step(stepenergies,foldedmodel,where='post')\n",
    "plt.subplot(212)\n",
    "plt.xscale('log')\n",
    "plt.xlabel(residLabels[0])\n",
    "plt.ylabel(residLabels[1])\n",
    "plt.errorbar(energies,resid,xerr=edeltas,yerr=residerr,fmt='.')\n",
    "plt.hlines(0.0,stepenergies[0],stepenergies[-1],linestyles='dashed')"
   ]
  }
 ],
 "metadata": {
  "kernelspec": {
   "display_name": "Python 3 (ipykernel)",
   "language": "python",
   "name": "python3"
  },
  "language_info": {
   "codemirror_mode": {
    "name": "ipython",
    "version": 3
   },
   "file_extension": ".py",
   "mimetype": "text/x-python",
   "name": "python",
   "nbconvert_exporter": "python",
   "pygments_lexer": "ipython3",
   "version": "3.10.12"
  }
 },
 "nbformat": 4,
 "nbformat_minor": 5
}
